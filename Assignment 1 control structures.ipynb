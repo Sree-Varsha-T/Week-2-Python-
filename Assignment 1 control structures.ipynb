{
 "cells": [
  {
   "cell_type": "code",
   "execution_count": 1,
   "id": "cffe4c8c-ead9-4789-89f6-86b3713d9c4a",
   "metadata": {},
   "outputs": [
    {
     "name": "stdout",
     "output_type": "stream",
     "text": [
      "Welcome to Assignment-1\n"
     ]
    }
   ],
   "source": [
    "print('Welcome to Assignment-1')"
   ]
  },
  {
   "cell_type": "code",
   "execution_count": 2,
   "id": "937436ac-a340-4c28-b456-898827866e8b",
   "metadata": {},
   "outputs": [
    {
     "name": "stdout",
     "output_type": "stream",
     "text": [
      "Num1= 10\n",
      "Num2= 30\n",
      "Add= 40\n"
     ]
    }
   ],
   "source": [
    "no1 = 10                                      \n",
    "no2 = 30\n",
    "add  = no1 + no2\n",
    "print(f\"Num1= {no1}\\nNum2= {no2}\\nAdd= {add}\")\n"
   ]
  },
  {
   "cell_type": "code",
   "execution_count": 3,
   "id": "467d8097-72af-4092-bf48-30a10ac47fcc",
   "metadata": {},
   "outputs": [
    {
     "name": "stdin",
     "output_type": "stream",
     "text": [
      "Enter the BMI index: 34\n"
     ]
    },
    {
     "name": "stdout",
     "output_type": "stream",
     "text": [
      "Very Overwight\n"
     ]
    }
   ],
   "source": [
    "bmi=int(input(\"Enter the BMI index:\"))         \n",
    "if (bmi<18.5):\n",
    "    print(\"Underweight\")\n",
    "elif (bmi<24.9):\n",
    "    print(\"Normal\")   \n",
    "elif (bmi<29.9):\n",
    "    print(\"Overweight\")\n",
    "else:\n",
    "    print(\"Very Overwight\")"
   ]
  },
  {
   "cell_type": "code",
   "execution_count": null,
   "id": "c949c5f8-9973-4f5e-b432-60978f9fb3c2",
   "metadata": {},
   "outputs": [],
   "source": []
  }
 ],
 "metadata": {
  "kernelspec": {
   "display_name": "Python [conda env:base] *",
   "language": "python",
   "name": "conda-base-py"
  },
  "language_info": {
   "codemirror_mode": {
    "name": "ipython",
    "version": 3
   },
   "file_extension": ".py",
   "mimetype": "text/x-python",
   "name": "python",
   "nbconvert_exporter": "python",
   "pygments_lexer": "ipython3",
   "version": "3.13.5"
  }
 },
 "nbformat": 4,
 "nbformat_minor": 5
}
