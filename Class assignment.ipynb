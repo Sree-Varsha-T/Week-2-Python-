{
 "cells": [
  {
   "cell_type": "code",
   "execution_count": 3,
   "id": "d6e3ed99-9c49-4827-bd1d-9a33f2194086",
   "metadata": {},
   "outputs": [
    {
     "name": "stdout",
     "output_type": "stream",
     "text": [
      "Sub-fields in AI are:\n",
      "Machine Learning\n",
      "Neural Networks\n",
      "Vision\n",
      "Robotics\n",
      "Speech Processing\n",
      "Natural Language Processing\n"
     ]
    }
   ],
   "source": [
    "class  SubfieldsInAI():\n",
    "    def subfields():\n",
    "        ai_domains=['Machine Learning','Neural Networks','Vision','Robotics','Speech Processing','Natural Language Processing']\n",
    "        print('Sub-fields in AI are:')\n",
    "        for aidom in ai_domains:\n",
    "            print(aidom)\n",
    "        return None\n",
    "SubfieldsInAI.subfields()"
   ]
  },
  {
   "cell_type": "code",
   "execution_count": 8,
   "id": "adc284a4-2aca-475e-9165-cba15c3b79fb",
   "metadata": {},
   "outputs": [
    {
     "name": "stdin",
     "output_type": "stream",
     "text": [
      "Enter a number:  52452\n"
     ]
    },
    {
     "name": "stdout",
     "output_type": "stream",
     "text": [
      "52452 is Even number\n"
     ]
    }
   ],
   "source": [
    "class OddEven():\n",
    "    def odd_even(no):\n",
    "        return f\"{no} is Even number\" if no%2==0  else f\"{no} is Odd number\"\n",
    "num=int(input('Enter a number: '))\n",
    "print(OddEven.odd_even(num))"
   ]
  },
  {
   "cell_type": "code",
   "execution_count": 11,
   "id": "413a0994-5a30-480b-9b9f-1b71340edafd",
   "metadata": {},
   "outputs": [
    {
     "name": "stdin",
     "output_type": "stream",
     "text": [
      "Your Gender: Male\n",
      "Your age: 20\n"
     ]
    },
    {
     "name": "stdout",
     "output_type": "stream",
     "text": [
      "NOT ELIGIBLE\n"
     ]
    }
   ],
   "source": [
    "class EligibilityForMarriage:\n",
    "    def elig_for_marr(g,a):\n",
    "        if(g=='Male'):\n",
    "            return \"ELIGIBLE\" if(a>=21) else \"NOT ELIGIBLE\"\n",
    "        if(g=='Female'):\n",
    "            return \"ELIGIBLE\" if(a>=18) else \"NOT ELIGIBLE\"\n",
    "gen=input('Your Gender:')\n",
    "age=int(input('Your age:'))\n",
    "print(EligibilityForMarriage.elig_for_marr(gen,age))"
   ]
  },
  {
   "cell_type": "code",
   "execution_count": 12,
   "id": "2c1b6682-5c36-405a-add5-2ab61bd9981f",
   "metadata": {},
   "outputs": [
    {
     "name": "stdin",
     "output_type": "stream",
     "text": [
      "Subject1= 98\n",
      "Subject2= 87\n",
      "Subject3= 95\n",
      "Subject4= 95\n",
      "Subject5= 93\n"
     ]
    },
    {
     "name": "stdout",
     "output_type": "stream",
     "text": [
      "Total : 468\n",
      "Percentage : 93.60000000000001\n"
     ]
    }
   ],
   "source": [
    "class FindPercent():\n",
    "    def percent(tot):\n",
    "        return (tot/500)*100\n",
    "sub1=int(input('Subject1='))\n",
    "sub2=int(input('Subject2='))\n",
    "sub3=int(input('Subject3='))\n",
    "sub4=int(input('Subject4='))\n",
    "sub5=int(input('Subject5='))\n",
    "total=sub1+sub2+sub3+sub4+sub5\n",
    "print(f\"Total : {total}\\nPercentage : {FindPercent.percent(total)}\") "
   ]
  },
  {
   "cell_type": "code",
   "execution_count": 14,
   "id": "fae74d5c-82b0-4b8a-89f5-87e7c019d38a",
   "metadata": {},
   "outputs": [
    {
     "name": "stdin",
     "output_type": "stream",
     "text": [
      "Height: 32\n",
      "Breadth: 34\n"
     ]
    },
    {
     "name": "stdout",
     "output_type": "stream",
     "text": [
      "Area formula :(Height*Breadth)/2\n",
      "Area of Triangle: 544.0\n"
     ]
    },
    {
     "name": "stdin",
     "output_type": "stream",
     "text": [
      "Height1: 2\n",
      "Height2: 4\n",
      "Breadth: 4\n"
     ]
    },
    {
     "name": "stdout",
     "output_type": "stream",
     "text": [
      "Perimeter formula: Height1+Height2+Breadth\n",
      "Perimeter of Triangle: 10\n"
     ]
    }
   ],
   "source": [
    "class triangle():\n",
    "    def area_tri(h,b):\n",
    "        return (h*b)/2\n",
    "    def peri(h1,h2,br):\n",
    "        return (h1+h2+br)\n",
    "h=int(input(\"Height:\"))\n",
    "b=int(input(\"Breadth:\"))\n",
    "print(\"Area formula :(Height*Breadth)/2\")\n",
    "print(f\"Area of Triangle: {triangle.area_tri(h,b)}\")\n",
    "h1=int(input(\"Height1:\"))\n",
    "h2=int(input(\"Height2:\"))\n",
    "br=int(input(\"Breadth:\"))\n",
    "print(\"Perimeter formula: Height1+Height2+Breadth\")\n",
    "print(f\"Perimeter of Triangle: {triangle.peri(h1,h2,br)}\")\n",
    "    "
   ]
  },
  {
   "cell_type": "code",
   "execution_count": null,
   "id": "c0552f0a-5304-430d-8179-37a13b41771f",
   "metadata": {},
   "outputs": [],
   "source": []
  }
 ],
 "metadata": {
  "kernelspec": {
   "display_name": "Python [conda env:base] *",
   "language": "python",
   "name": "conda-base-py"
  },
  "language_info": {
   "codemirror_mode": {
    "name": "ipython",
    "version": 3
   },
   "file_extension": ".py",
   "mimetype": "text/x-python",
   "name": "python",
   "nbconvert_exporter": "python",
   "pygments_lexer": "ipython3",
   "version": "3.13.5"
  }
 },
 "nbformat": 4,
 "nbformat_minor": 5
}
