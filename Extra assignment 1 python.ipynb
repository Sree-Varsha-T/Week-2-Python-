{
 "cells": [
  {
   "cell_type": "code",
   "execution_count": 1,
   "id": "d2d3c127-5eba-4fbc-9ab9-f90fd41670bd",
   "metadata": {},
   "outputs": [
    {
     "name": "stdout",
     "output_type": "stream",
     "text": [
      "HOPE AI\n"
     ]
    }
   ],
   "source": [
    "print(\"HOPE AI\")"
   ]
  },
  {
   "cell_type": "code",
   "execution_count": 19,
   "id": "e9fbcdfc-70ce-4fee-89f2-f47b6b8c8971",
   "metadata": {},
   "outputs": [
    {
     "name": "stdin",
     "output_type": "stream",
     "text": [
      "Enter your institute name? : HOPE AI\n"
     ]
    },
    {
     "name": "stdout",
     "output_type": "stream",
     "text": [
      "Enter your institute name? :HOPE AI\n"
     ]
    }
   ],
   "source": [
    "name=input(\"Enter your institute name? :\")\n",
    "print(f\"Enter your institute name? :{name}\")"
   ]
  },
  {
   "cell_type": "code",
   "execution_count": 18,
   "id": "68597b0e-94c9-4030-8310-b52b35f16e7a",
   "metadata": {},
   "outputs": [
    {
     "name": "stdin",
     "output_type": "stream",
     "text": [
      "Enter your name: Raj\n",
      "Enter your age: 15\n",
      "Enter your school name: Guru school\n",
      "Enter your degree: B.E CSE\n"
     ]
    },
    {
     "name": "stdout",
     "output_type": "stream",
     "text": [
      "Enter your name:Raj\n",
      "Enter your age:15\n",
      "Enter your school name:Guru school\n",
      "Enter your degree:B.E CSE\n"
     ]
    }
   ],
   "source": [
    "name=input(\"Enter your name:\")\n",
    "age=input(\"Enter your age:\")\n",
    "sch_nam=input(\"Enter your school name:\")\n",
    "degree=input(\"Enter your degree:\")\n",
    "print(f\"Enter your name:{name}\\nEnter your age:{age}\\nEnter your school name:{sch_nam}\\nEnter your degree:{degree}\")"
   ]
  },
  {
   "cell_type": "code",
   "execution_count": 11,
   "id": "0e48e130-4b96-4793-8216-6344867ad2fa",
   "metadata": {},
   "outputs": [
    {
     "name": "stdout",
     "output_type": "stream",
     "text": [
      "a= 43\n",
      "b= 34\n",
      "add = 77\n"
     ]
    }
   ],
   "source": [
    "num1=43\n",
    "num2=34\n",
    "add=num1+num2\n",
    "print(f\"a= {num1}\\nb= {num2}\\nadd = {add}\")"
   ]
  },
  {
   "cell_type": "code",
   "execution_count": 9,
   "id": "6ee9985f-c75a-4bdb-804c-65fe2e38603f",
   "metadata": {},
   "outputs": [
    {
     "name": "stdout",
     "output_type": "stream",
     "text": [
      "a= 43\n",
      "b= 34\n",
      "sub = 9\n"
     ]
    }
   ],
   "source": [
    "num1=43\n",
    "num2=34\n",
    "sub=num1-num2\n",
    "print(f\"a= {num1}\\nb= {num2}\\nsub = {sub}\")\n",
    "\n"
   ]
  },
  {
   "cell_type": "code",
   "execution_count": 12,
   "id": "a9621e65-c8fa-4f29-9ed0-6449064d4420",
   "metadata": {},
   "outputs": [
    {
     "name": "stdout",
     "output_type": "stream",
     "text": [
      "a= 63\n",
      "b= 97\n",
      "Mul = 6111\n"
     ]
    }
   ],
   "source": [
    "num1=63\n",
    "num2=97\n",
    "Mul=num1*num2\n",
    "print(f\"a= {num1}\\nb= {num2}\\nMul = {Mul}\")"
   ]
  },
  {
   "cell_type": "code",
   "execution_count": 14,
   "id": "665755d6-2525-46ff-a372-3879066ac531",
   "metadata": {},
   "outputs": [
    {
     "name": "stdout",
     "output_type": "stream",
     "text": [
      "a= 76\n",
      "b= 31\n",
      "Float Div = 2.4516129032258065\n"
     ]
    }
   ],
   "source": [
    "num1=76\n",
    "num2=31\n",
    "Float_Div=num1/num2\n",
    "print(f\"a= {num1}\\nb= {num2}\\nFloat Div = {Float_Div}\")"
   ]
  },
  {
   "cell_type": "code",
   "execution_count": 15,
   "id": "8af1f00c-2581-4d65-b12a-651d483ca35c",
   "metadata": {},
   "outputs": [
    {
     "name": "stdout",
     "output_type": "stream",
     "text": [
      "a= 76\n",
      "b= 31\n",
      "Floor Div = 2\n"
     ]
    }
   ],
   "source": [
    "num1=76\n",
    "num2=31\n",
    "Floor_Div=num1//num2\n",
    "print(f\"a= {num1}\\nb= {num2}\\nFloor Div = {Floor_Div}\")"
   ]
  },
  {
   "cell_type": "code",
   "execution_count": 16,
   "id": "b82ccbca-86a7-4bab-b4a6-ebd135602604",
   "metadata": {},
   "outputs": [
    {
     "name": "stdout",
     "output_type": "stream",
     "text": [
      "a= 76\n",
      "b= 31\n",
      "Modulo = 14\n"
     ]
    }
   ],
   "source": [
    "num1=76\n",
    "num2=31\n",
    "Modulo=num1%num2\n",
    "print(f\"a= {num1}\\nb= {num2}\\nModulo = {Modulo}\")"
   ]
  },
  {
   "cell_type": "code",
   "execution_count": 17,
   "id": "171d7da6-abc4-4d6a-86b0-7e58eecbe06c",
   "metadata": {},
   "outputs": [
    {
     "name": "stdout",
     "output_type": "stream",
     "text": [
      "a= 4\n",
      "b= 4\n",
      "Power = 256\n"
     ]
    }
   ],
   "source": [
    "num1=4\n",
    "num2=4\n",
    "Power=num1**num2\n",
    "print(f\"a= {num1}\\nb= {num2}\\nPower = {Power}\")"
   ]
  },
  {
   "cell_type": "code",
   "execution_count": null,
   "id": "0c02faa0-c32d-4e8a-baa2-a03da7e2f5d5",
   "metadata": {},
   "outputs": [],
   "source": []
  }
 ],
 "metadata": {
  "kernelspec": {
   "display_name": "Python [conda env:base] *",
   "language": "python",
   "name": "conda-base-py"
  },
  "language_info": {
   "codemirror_mode": {
    "name": "ipython",
    "version": 3
   },
   "file_extension": ".py",
   "mimetype": "text/x-python",
   "name": "python",
   "nbconvert_exporter": "python",
   "pygments_lexer": "ipython3",
   "version": "3.13.5"
  }
 },
 "nbformat": 4,
 "nbformat_minor": 5
}
