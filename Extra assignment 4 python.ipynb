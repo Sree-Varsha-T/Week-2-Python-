{
 "cells": [
  {
   "cell_type": "code",
   "execution_count": 3,
   "id": "9c3181db-e8b8-4fc5-8651-17e0372ea2c8",
   "metadata": {},
   "outputs": [
    {
     "name": "stdout",
     "output_type": "stream",
     "text": [
      "Sub-fields in AI are:\n",
      "Machine Learning\n",
      "Neural Networks\n",
      "Vision\n",
      "Robotics\n",
      "Speech Processing\n",
      "Natural Language Processing\n"
     ]
    }
   ],
   "source": [
    "ai_domains=['Machine Learning','Neural Networks','Vision','Robotics','Speech Processing','Natural Language Processing']\n",
    "def subfields():\n",
    "    print('Sub-fields in AI are:')\n",
    "    for aidom in ai_domains:\n",
    "        print(aidom)\n",
    "    return None\n",
    "subfields()"
   ]
  },
  {
   "cell_type": "code",
   "execution_count": 6,
   "id": "90111b4e-501e-466c-83c7-2f66d6fa4b4d",
   "metadata": {},
   "outputs": [
    {
     "name": "stdin",
     "output_type": "stream",
     "text": [
      "Enter a number:  52452\n"
     ]
    },
    {
     "name": "stdout",
     "output_type": "stream",
     "text": [
      "52452 is Even number\n"
     ]
    }
   ],
   "source": [
    "num=int(input('Enter a number: '))\n",
    "def odd_even(no):\n",
    "     return f\"{no} is Even number\" if no%2==0  else f\"{no} is Odd number\"\n",
    "print(odd_even(num))\n",
    "         "
   ]
  },
  {
   "cell_type": "code",
   "execution_count": 7,
   "id": "53c75e5d-e579-483a-a414-74bd13dfc64d",
   "metadata": {},
   "outputs": [
    {
     "name": "stdin",
     "output_type": "stream",
     "text": [
      "Your Gender: Male\n",
      "Your age: 20\n"
     ]
    },
    {
     "name": "stdout",
     "output_type": "stream",
     "text": [
      "NOT ELIGIBLE\n"
     ]
    }
   ],
   "source": [
    "gen=input('Your Gender:')\n",
    "age=int(input('Your age:'))\n",
    "def elig_for_marr(g,a):\n",
    "    if(g=='Male'):\n",
    "        return \"ELIGIBLE\" if(a>=21) else \"NOT ELIGIBLE\"\n",
    "    if(g=='Female'):\n",
    "        return \"ELIGIBLE\" if(a>=18) else \"NOT ELIGIBLE\"\n",
    "print(elig_for_marr(gen,age))        \n",
    "        \n",
    "        "
   ]
  },
  {
   "cell_type": "code",
   "execution_count": 11,
   "id": "220811f8-e916-40cf-a9fb-1b4ff6935044",
   "metadata": {},
   "outputs": [
    {
     "name": "stdin",
     "output_type": "stream",
     "text": [
      "Subject1= 98\n",
      "Subject2= 87\n",
      "Subject3= 95\n",
      "Subject4= 95\n",
      "Subject5= 93\n"
     ]
    },
    {
     "name": "stdout",
     "output_type": "stream",
     "text": [
      "Total : 468\n",
      "Percentage : 93.60000000000001\n"
     ]
    }
   ],
   "source": [
    "sub1=int(input('Subject1='))\n",
    "sub2=int(input('Subject2='))\n",
    "sub3=int(input('Subject3='))\n",
    "sub4=int(input('Subject4='))\n",
    "sub5=int(input('Subject5='))\n",
    "total=sub1+sub2+sub3+sub4+sub5\n",
    "def percent(tot):\n",
    "    return (tot/500)*100\n",
    "print(f\"Total : {total}\\nPercentage : {percent(total)}\")    \n",
    "\n",
    "         "
   ]
  },
  {
   "cell_type": "code",
   "execution_count": 13,
   "id": "68d777af-1b9a-40e5-a9b6-7ebf98034bad",
   "metadata": {},
   "outputs": [
    {
     "name": "stdin",
     "output_type": "stream",
     "text": [
      "Height: 32\n",
      "Breadth: 34\n"
     ]
    },
    {
     "name": "stdout",
     "output_type": "stream",
     "text": [
      "Area formula :(Height*Breadth)/2\n",
      "Area of Triangle: 544.0\n"
     ]
    },
    {
     "name": "stdin",
     "output_type": "stream",
     "text": [
      "Height1: 2\n",
      "Height2: 4\n",
      "Breadth: 4\n"
     ]
    },
    {
     "name": "stdout",
     "output_type": "stream",
     "text": [
      "Perimeter formula: Height1+Height2+Breadth\n",
      "Perimeter of Triangle: 10\n"
     ]
    }
   ],
   "source": [
    "h=int(input(\"Height:\"))\n",
    "b=int(input(\"Breadth:\"))\n",
    "print(\"Area formula :(Height*Breadth)/2\") \n",
    "def area_tri(h,b):\n",
    "    return (h*b)/2\n",
    "print(f\"Area of Triangle: {area_tri(h,b)}\")\n",
    "\n",
    "h1=int(input(\"Height1:\"))\n",
    "h2=int(input(\"Height2:\"))\n",
    "br=int(input(\"Breadth:\"))\n",
    "print(\"Perimeter formula: Height1+Height2+Breadth\")\n",
    "def peri(h1,h2,br):\n",
    "    return (h1+h2+br)\n",
    "print(f\"Perimeter of Triangle: {peri(h1,h2,br)}\")\n",
    "\n",
    "\n"
   ]
  },
  {
   "cell_type": "code",
   "execution_count": null,
   "id": "27e245db-0b9a-4b38-9281-55af9d07d757",
   "metadata": {},
   "outputs": [],
   "source": []
  }
 ],
 "metadata": {
  "kernelspec": {
   "display_name": "Python [conda env:base] *",
   "language": "python",
   "name": "conda-base-py"
  },
  "language_info": {
   "codemirror_mode": {
    "name": "ipython",
    "version": 3
   },
   "file_extension": ".py",
   "mimetype": "text/x-python",
   "name": "python",
   "nbconvert_exporter": "python",
   "pygments_lexer": "ipython3",
   "version": "3.13.5"
  }
 },
 "nbformat": 4,
 "nbformat_minor": 5
}
